{
 "cells": [
  {
   "cell_type": "code",
   "execution_count": null,
   "id": "48fa985c-d6fe-4b71-b575-8006cd72a056",
   "metadata": {},
   "outputs": [],
   "source": [
    "# import python libraries\n",
    "\n",
    "import numpy as np \n",
    "import pandas as pd \n",
    "import matplotlib.pyplot as plt # visualizing data\n",
    "%matplotlib inline\n",
    "import seaborn as sns"
   ]
  },
  {
   "cell_type": "code",
   "execution_count": null,
   "id": "6ff75e3f-ed45-4a10-af96-c6f81deaf9a1",
   "metadata": {},
   "outputs": [],
   "source": [
    "# import csv file\n",
    "df = pd.read_csv('Car Sales.csv', encoding= 'unicode_escape')"
   ]
  },
  {
   "cell_type": "code",
   "execution_count": null,
   "id": "1dd87df3-4053-41d9-a27e-5643556ec073",
   "metadata": {},
   "outputs": [],
   "source": [
    "df.shape"
   ]
  },
  {
   "cell_type": "code",
   "execution_count": null,
   "id": "c1e947b3-7d9e-4ebd-84c2-63b707701a98",
   "metadata": {},
   "outputs": [],
   "source": [
    "df.head()"
   ]
  },
  {
   "cell_type": "code",
   "execution_count": null,
   "id": "84e627f9-5a25-46e6-82b1-27d3f39cb73c",
   "metadata": {},
   "outputs": [],
   "source": [
    "df.info()"
   ]
  },
  {
   "cell_type": "code",
   "execution_count": null,
   "id": "23d7cb0d-c0f8-4f82-9300-b86079dc00ca",
   "metadata": {},
   "outputs": [],
   "source": [
    "pd.isnull(df)"
   ]
  },
  {
   "cell_type": "code",
   "execution_count": null,
   "id": "76c9cc16-c284-4e3f-85b7-46c1655b02a9",
   "metadata": {},
   "outputs": [],
   "source": [
    "#check null values\n",
    "pd.isnull(df).sum()"
   ]
  },
  {
   "cell_type": "code",
   "execution_count": null,
   "id": "dcf16887-cb19-4b1e-ad59-c576506e3388",
   "metadata": {},
   "outputs": [],
   "source": [
    "#drop null values\n",
    "df.dropna(inplace=True)"
   ]
  },
  {
   "cell_type": "code",
   "execution_count": null,
   "id": "c0fe0048-27df-410e-b486-18fb36bdbd7c",
   "metadata": {},
   "outputs": [],
   "source": [
    "df.columns"
   ]
  },
  {
   "cell_type": "code",
   "execution_count": null,
   "id": "bbab0a98-f6d0-4f6d-a3fe-a486b03a6138",
   "metadata": {},
   "outputs": [],
   "source": [
    "print(\"========== Descriptive Statistics ==========\\n\")\n",
    "\n",
    "print(\"📊 Numerical Summary (Annual Income & Price):\\n\")\n",
    "display(df[[\"Annual Income\", \"Price ($)\"]].describe().T)\n",
    "\n",
    "print(\"\\n📋 Categorical Summary (Customer, Car & Dealer Info):\\n\")\n",
    "display(df.describe(include='object').T)\n",
    "\n",
    "print(\"\\n===========================================\\n\")\n"
   ]
  },
  {
   "cell_type": "markdown",
   "id": "12f23ddf-ca1c-4e1d-98a4-a61171d23f1d",
   "metadata": {},
   "source": [
    "# Exploratory Data Analysis\n",
    "## Gender distribution"
   ]
  },
  {
   "cell_type": "code",
   "execution_count": null,
   "id": "cf15ffdf-5c9e-40ce-8a21-e6a9cbfd7030",
   "metadata": {},
   "outputs": [],
   "source": [
    "ax = sns.countplot(x=\"Gender\", hue=\"Gender\", data=df, \n",
    "                   palette={\"Male\": \"skyblue\", \"Female\": \"lightcoral\"}, \n",
    "                   legend=False)\n",
    "\n",
    "plt.title(\"Customer Gender Distribution\")\n",
    "for bars in ax.containers:\n",
    "    ax.bar_label(bars)"
   ]
  },
  {
   "cell_type": "markdown",
   "id": "58850e10-906b-4536-a72a-5d9309af092b",
   "metadata": {},
   "source": [
    "## Annual Income distribution"
   ]
  },
  {
   "cell_type": "code",
   "execution_count": null,
   "id": "cc71edc1-0e7c-4ffb-ab33-fe573ff2521e",
   "metadata": {},
   "outputs": [],
   "source": [
    "sns.histplot(df[\"Annual Income\"], kde=True)\n",
    "plt.title(\"Annual Income Distribution\")\n",
    "plt.show()"
   ]
  },
  {
   "cell_type": "markdown",
   "id": "1bbf5a92-9ccf-4712-8c26-05353c1d5081",
   "metadata": {},
   "source": [
    "## Income vs Price"
   ]
  },
  {
   "cell_type": "code",
   "execution_count": null,
   "id": "388472c9-9654-454a-a366-81d827ebbf81",
   "metadata": {},
   "outputs": [],
   "source": [
    "sns.scatterplot(x=\"Annual Income\", y=\"Price ($)\", hue=\"Gender\", data=df)\n",
    "plt.title(\"Annual Income vs Car Price\")\n",
    "plt.show()"
   ]
  },
  {
   "cell_type": "markdown",
   "id": "b3bc696f-0036-4064-84e9-be72765255aa",
   "metadata": {},
   "source": [
    "##  Most popular car companies"
   ]
  },
  {
   "cell_type": "code",
   "execution_count": null,
   "id": "715f993f-9402-4d93-abf7-f84dd6f45085",
   "metadata": {},
   "outputs": [],
   "source": [
    "df[\"Company\"].value_counts().head(10).plot(kind=\"bar\")\n",
    "plt.title(\"Top 10 Car Companies Sold\")\n",
    "plt.show()"
   ]
  },
  {
   "cell_type": "markdown",
   "id": "f44a94d2-1837-463a-9cda-b2dde2a99f59",
   "metadata": {},
   "source": [
    "## Transmission type distribution"
   ]
  },
  {
   "cell_type": "code",
   "execution_count": null,
   "id": "53eece83-632b-41da-8bb0-8627d3686d7e",
   "metadata": {},
   "outputs": [],
   "source": [
    "ax = sns.countplot(x=\"Transmission\", data=df, palette=\"Set2\")\n",
    "\n",
    "plt.title(\"Transmission Type Distribution\")\n",
    "\n",
    "# Add labels on top of bars\n",
    "for bars in ax.containers:\n",
    "    ax.bar_label(bars)\n",
    "\n",
    "plt.show()\n"
   ]
  },
  {
   "cell_type": "markdown",
   "id": "65608325-91c5-4be3-a515-02bb2756d8ca",
   "metadata": {},
   "source": [
    "## Body Style distribution"
   ]
  },
  {
   "cell_type": "code",
   "execution_count": null,
   "id": "ced3bda3-f5c9-4876-a248-36c27cafea8a",
   "metadata": {},
   "outputs": [],
   "source": [
    "ax = sns.countplot(x=\"Body Style\", data=df)\n",
    "plt.title(\"Body Style Distribution\")\n",
    "plt.xticks(rotation=45)\n",
    "\n",
    "for bars in ax.containers:\n",
    "    ax.bar_label(bars)\n"
   ]
  },
  {
   "cell_type": "markdown",
   "id": "73ab9e69-81d6-4836-8894-89d5ed408f46",
   "metadata": {},
   "source": [
    "## Dealer Region Analysis"
   ]
  },
  {
   "cell_type": "code",
   "execution_count": null,
   "id": "dceb68ec-1105-401a-bad2-7e997f9dbd6c",
   "metadata": {},
   "outputs": [],
   "source": [
    "ax = sns.countplot(x=\"Dealer_Region\", data=df, order=df[\"Dealer_Region\"].value_counts().index)\n",
    "plt.title(\"Car Sales by Dealer Region\")\n",
    "plt.xticks(rotation=45)\n",
    "\n",
    "for bars in ax.containers:\n",
    "    ax.bar_label(bars)"
   ]
  },
  {
   "cell_type": "markdown",
   "id": "d052fd59-3198-4149-81eb-ae18e63381ed",
   "metadata": {},
   "source": [
    "## Price Distribution"
   ]
  },
  {
   "cell_type": "code",
   "execution_count": null,
   "id": "822cafd6-3ca6-4539-abe7-537733b33eef",
   "metadata": {},
   "outputs": [],
   "source": [
    "ax = sns.histplot(df[\"Price ($)\"], kde=True)\n",
    "plt.title(\"Car Price Distribution\")\n",
    "plt.show()\n"
   ]
  }
 ],
 "metadata": {
  "kernelspec": {
   "display_name": "Python 3 (ipykernel)",
   "language": "python",
   "name": "python3"
  },
  "language_info": {
   "codemirror_mode": {
    "name": "ipython",
    "version": 3
   },
   "file_extension": ".py",
   "mimetype": "text/x-python",
   "name": "python",
   "nbconvert_exporter": "python",
   "pygments_lexer": "ipython3",
   "version": "3.12.4"
  }
 },
 "nbformat": 4,
 "nbformat_minor": 5
}
